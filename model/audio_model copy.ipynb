{
  "cells": [
    {
      "cell_type": "code",
      "execution_count": null,
      "metadata": {
        "colab": {
          "base_uri": "https://localhost:8080/"
        },
        "id": "Cw1XI-361xGC",
        "outputId": "bc1fe244-de09-40f1-bb29-33b2507d73b7"
      },
      "outputs": [],
      "source": [
        "import os\n",
        "import pathlib\n",
        "\n",
        "import matplotlib.pyplot as plt\n",
        "import numpy as np\n",
        "import seaborn as sns\n",
        "import tensorflow as tf\n",
        "\n",
        "from tensorflow.keras import layers\n",
        "from tensorflow.keras import models\n",
        "from IPython import display\n",
        "\n",
        "seed = 42\n",
        "tf.random.set_seed(seed)\n",
        "np.random.seed(seed)"
      ]
    },
    {
      "cell_type": "code",
      "execution_count": null,
      "metadata": {
        "colab": {
          "base_uri": "https://localhost:8080/"
        },
        "id": "71-_T0LA1xGE",
        "outputId": "5b88ed1b-3cf1-4bbf-ff3e-9d89289824e8"
      },
      "outputs": [],
      "source": [
        "DATASET_PATH = '../data/mini_speech_commands'\n",
        "\n",
        "data_dir = pathlib.Path(DATASET_PATH)\n",
        "\n",
        "if not data_dir.exists():\n",
        "    tf.keras.utils.get_file(\n",
        "        'mini_speech_commands.zip',\n",
        "        origin=\"http://storage.googleapis.com/download.tensorflow.org/data/mini_speech_commands.zip\",\n",
        "        extract=True,\n",
        "        cache_dir='.', cache_subdir='data')"
      ]
    },
    {
      "cell_type": "code",
      "execution_count": null,
      "metadata": {
        "colab": {
          "base_uri": "https://localhost:8080/"
        },
        "id": "eu84gdvv1xGE",
        "outputId": "a3eca6c9-c060-4579-d340-27b2a732e22b"
      },
      "outputs": [],
      "source": [
        "commands = np.array(tf.io.gfile.listdir(str(data_dir)))\n",
        "print('Commands:', commands)"
      ]
    },
    {
      "cell_type": "code",
      "execution_count": null,
      "metadata": {
        "id": "1uPpMmm_2TIb"
      },
      "outputs": [],
      "source": [
        "commands = commands[commands != 'README.md']"
      ]
    },
    {
      "cell_type": "code",
      "execution_count": null,
      "metadata": {
        "colab": {
          "base_uri": "https://localhost:8080/"
        },
        "id": "TXzeWDOp1xGE",
        "outputId": "aa8b4b62-e29c-49f8-e52f-fef8ac813577"
      },
      "outputs": [],
      "source": [
        "filenames = []\n",
        "for command in commands:\n",
        "      filenames += tf.io.gfile.glob(str(data_dir/command) + '/*')\n",
        "\n",
        "filenames = tf.random.shuffle(filenames)\n",
        "num_samples = len(filenames)\n",
        "\n",
        "print('Number of total examples:', num_samples)\n",
        "for command in commands:\n",
        "      num_samples_per_command = len(tf.io.gfile.glob(str(data_dir/command) + '/*'))\n",
        "      print(f'Number of examples for {command}: {num_samples_per_command}')"
      ]
    },
    {
      "cell_type": "code",
      "execution_count": null,
      "metadata": {
        "colab": {
          "base_uri": "https://localhost:8080/",
          "height": 564
        },
        "id": "sJDNlMtG1xGF",
        "outputId": "3c3e8576-efe4-4107-d9ab-f172015ec8a6"
      },
      "outputs": [],
      "source": [
        "plt.figure(figsize=(10, 6))\n",
        "plt.bar(commands, num_samples_per_command, color='skyblue')\n",
        "plt.xlabel('Commands')\n",
        "plt.ylabel('Number of Samples')\n",
        "plt.title('Distribution of Samples per Command')\n",
        "plt.show()"
      ]
    },
    {
      "cell_type": "code",
      "execution_count": null,
      "metadata": {
        "colab": {
          "base_uri": "https://localhost:8080/"
        },
        "id": "_QlD1MX61xGF",
        "outputId": "92c9f5ed-1208-4455-dde3-b93989297a93"
      },
      "outputs": [],
      "source": [
        "commands = commands[(commands != 'go')\n",
        "                & (commands != 'stop') & (commands != 'yes')]\n",
        "\n",
        "print('Commands:', commands)"
      ]
    },
    {
      "cell_type": "code",
      "execution_count": null,
      "metadata": {
        "colab": {
          "base_uri": "https://localhost:8080/"
        },
        "id": "eqcHFRsT1xGF",
        "outputId": "5263f99a-2715-4e1c-c390-6ff5d26d45d3"
      },
      "outputs": [],
      "source": [
        "filenames = []\n",
        "for command in commands:\n",
        "      filenames += tf.io.gfile.glob(str(data_dir/command) + '/*')\n",
        "\n",
        "filenames = tf.random.shuffle(filenames)\n",
        "num_samples = len(filenames)\n",
        "num_samples_per_command = len(tf.io.gfile.listdir(str(data_dir/command)))\n",
        "print('Number of total examples:', num_samples)\n",
        "print('Number of examples per label:', num_samples_per_command)\n",
        "print('Example file tensor:', filenames[0])"
      ]
    },
    {
      "cell_type": "code",
      "execution_count": null,
      "metadata": {},
      "outputs": [],
      "source": [
        "plt.figure(figsize=(10, 6))\n",
        "plt.bar(commands, num_samples_per_command, color='skyblue')\n",
        "plt.xlabel('Commands')\n",
        "plt.ylabel('Number of Samples')\n",
        "plt.title('Distribution of Samples per Command')\n",
        "plt.show()"
      ]
    },
    {
      "cell_type": "code",
      "execution_count": null,
      "metadata": {
        "colab": {
          "base_uri": "https://localhost:8080/"
        },
        "id": "IVeCrTZq1xGF",
        "outputId": "1e4810ab-fda0-47e7-9674-3ab77a218ec3"
      },
      "outputs": [],
      "source": [
        "train_files = filenames[:4000]\n",
        "val_files = filenames[4000:4500]\n",
        "test_files = filenames[4500:]\n",
        "\n",
        "print('Training set size', len(train_files))\n",
        "print('Validation set size', len(val_files))\n",
        "print('Test set size', len(test_files))"
      ]
    },
    {
      "cell_type": "code",
      "execution_count": null,
      "metadata": {
        "colab": {
          "base_uri": "https://localhost:8080/"
        },
        "id": "hH9hATio1xGF",
        "outputId": "6ffe6c65-bcdc-4a2b-a830-010dc2b8f5ac"
      },
      "outputs": [],
      "source": [
        "test_file = tf.io.read_file(DATASET_PATH+'/down/0a9f9af7_nohash_0.wav')\n",
        "\n",
        "test_audio, _ = tf.audio.decode_wav(contents=test_file)\n",
        "\n",
        "test_audio.shape"
      ]
    },
    {
      "cell_type": "code",
      "execution_count": null,
      "metadata": {
        "id": "cOVvpwR91xGF"
      },
      "outputs": [],
      "source": [
        "def decode_audio(audio_binary):\n",
        "    audio, _ = tf.audio.decode_wav(contents=audio_binary)\n",
        "    return tf.squeeze(audio, axis=-1)"
      ]
    },
    {
      "cell_type": "code",
      "execution_count": null,
      "metadata": {},
      "outputs": [],
      "source": [
        "# def get_label(file_path):\n",
        "#     parts = tf.strings.split(\n",
        "#         input=file_path,\n",
        "#         sep=os.path.sep)\n",
        "#     return parts[-2]\n",
        "\n",
        "def get_label(file_path):\n",
        "    parts = tf.strings.split(input=file_path, sep=os.path.sep)\n",
        "    label = parts[-2]\n",
        "    label = tf.cond(label == 'down', lambda: tf.constant('bawah'), lambda: label)\n",
        "    label = tf.cond(label == 'left', lambda: tf.constant('kiri'), lambda: label)\n",
        "    label = tf.cond(label == 'right', lambda: tf.constant('kanan'), lambda: label)\n",
        "    label = tf.cond(label == 'up', lambda: tf.constant('atas'), lambda: label)\n",
        "    label = tf.cond(label == 'no', lambda: tf.constant('tidak dikenal'), lambda: label)\n",
        "    return label\n"
      ]
    },
    {
      "cell_type": "code",
      "execution_count": null,
      "metadata": {},
      "outputs": [],
      "source": [
        "# 'down' 'left' 'no' 'right' 'up'\n",
        "\n",
        "commands = np.array(['bawah', 'kiri', 'tidak dikenal', 'atas'])\n",
        "commands"
      ]
    },
    {
      "cell_type": "code",
      "execution_count": null,
      "metadata": {},
      "outputs": [],
      "source": [
        "# Visualisasi distribusi sampel per label baru\n",
        "# num_samples_per_command = [len(tf.io.gfile.glob(str(data_dir/command) + '/*')) for command in commands]\n",
        "\n",
        "plt.figure(figsize=(10, 6))\n",
        "plt.bar(commands, num_samples_per_command, color='skyblue')\n",
        "plt.xlabel('Commands')\n",
        "plt.ylabel('Number of Samples')\n",
        "plt.title('Distribution of Samples per Command')\n",
        "plt.show()"
      ]
    },
    {
      "cell_type": "code",
      "execution_count": null,
      "metadata": {
        "id": "Cggtx1n41xGG"
      },
      "outputs": [],
      "source": [
        "def get_waveform_and_label(file_path):\n",
        "    label = get_label(file_path)\n",
        "    audio_binary = tf.io.read_file(file_path)\n",
        "    waveform = decode_audio(audio_binary)\n",
        "    return waveform, label"
      ]
    },
    {
      "cell_type": "code",
      "execution_count": null,
      "metadata": {
        "id": "WP5SBSTh1xGG"
      },
      "outputs": [],
      "source": [
        "AUTOTUNE = tf.data.AUTOTUNE\n",
        "\n",
        "files_ds = tf.data.Dataset.from_tensor_slices(train_files)\n",
        "\n",
        "waveform_ds = files_ds.map(\n",
        "    map_func=get_waveform_and_label,\n",
        "    num_parallel_calls=AUTOTUNE)"
      ]
    },
    {
      "cell_type": "code",
      "execution_count": null,
      "metadata": {
        "colab": {
          "base_uri": "https://localhost:8080/",
          "height": 1000
        },
        "id": "-p5yos6U1xGG",
        "outputId": "4fdb77d1-e907-48b1-e745-b1f56fae7ff4"
      },
      "outputs": [],
      "source": [
        "rows = 3\n",
        "cols = 3\n",
        "n = rows * cols\n",
        "fig, axes = plt.subplots(rows, cols, figsize=(10, 12))\n",
        "\n",
        "for i, (audio, label) in enumerate(waveform_ds.take(n)):\n",
        "    r = i // cols\n",
        "    c = i % cols\n",
        "    ax = axes[r][c]\n",
        "    ax.plot(audio.numpy())\n",
        "    ax.set_yticks(np.arange(-1.2, 1.2, 0.2))\n",
        "    label = label.numpy().decode('utf-8')\n",
        "    ax.set_title(label)\n",
        "\n",
        "plt.show()"
      ]
    },
    {
      "cell_type": "code",
      "execution_count": null,
      "metadata": {
        "id": "seN481D31xGH"
      },
      "outputs": [],
      "source": [
        "def get_spectrogram(waveform):\n",
        "    input_len = 16000\n",
        "    waveform = waveform[:input_len]\n",
        "    zero_padding = tf.zeros(\n",
        "        [16000] - tf.shape(waveform),\n",
        "        dtype=tf.float32)\n",
        "\n",
        "    waveform = tf.cast(waveform, dtype=tf.float32)\n",
        "\n",
        "    equal_length = tf.concat([waveform, zero_padding], 0)\n",
        "\n",
        "    spectrogram = tf.signal.stft(\n",
        "        equal_length, frame_length=255, frame_step=128)\n",
        "\n",
        "    spectrogram = tf.abs(spectrogram)\n",
        "\n",
        "    spectrogram = spectrogram[..., tf.newaxis]\n",
        "    return spectrogram"
      ]
    },
    {
      "cell_type": "code",
      "execution_count": null,
      "metadata": {
        "colab": {
          "base_uri": "https://localhost:8080/",
          "height": 145
        },
        "id": "mDpwQ5oB1xGH",
        "outputId": "6407ed28-d63f-4b8c-9cb9-2e98bc2d0ade"
      },
      "outputs": [],
      "source": [
        "for waveform, label in waveform_ds.take(1):\n",
        "    label = label.numpy().decode('utf-8')\n",
        "    spectrogram = get_spectrogram(waveform)\n",
        "\n",
        "print('Label: ', label)\n",
        "print('Waveform shape: ', waveform.shape)\n",
        "print('Spectrogram shape: ', spectrogram.shape)\n",
        "print('Audio playback')\n",
        "display.display(display.Audio(waveform, rate=16000))\n"
      ]
    },
    {
      "cell_type": "code",
      "execution_count": null,
      "metadata": {
        "id": "fUsy_-AC1xGH"
      },
      "outputs": [],
      "source": [
        "def plot_spectrogram(spectrogram, ax):\n",
        "    if len(spectrogram.shape) > 2:\n",
        "        assert len(spectrogram.shape) == 3\n",
        "        spectrogram = np.squeeze(spectrogram, axis=-1)\n",
        "\n",
        "    log_spec = np.log(spectrogram.T + np.finfo(float).eps)\n",
        "    height = log_spec.shape[0]\n",
        "    width = log_spec.shape[1]\n",
        "    X = np.linspace(0, np.size(spectrogram), num=width, dtype=int)\n",
        "    Y = range(height)\n",
        "    ax.pcolormesh(X, Y, log_spec)"
      ]
    },
    {
      "cell_type": "code",
      "execution_count": null,
      "metadata": {
        "colab": {
          "base_uri": "https://localhost:8080/",
          "height": 868
        },
        "id": "Mnw_9_5s1xGH",
        "outputId": "49c28af6-e9ca-4a97-ee92-6d6f0f4ef907"
      },
      "outputs": [],
      "source": [
        "fig, axes = plt.subplots(2, figsize=(12, 8))\n",
        "\n",
        "# Plot Waveform\n",
        "timescale = np.arange(waveform.shape[0])\n",
        "axes[0].plot(timescale, waveform)\n",
        "axes[0].set_title('Waveform')\n",
        "axes[0].set_xlabel('Time (samples)')\n",
        "axes[0].set_ylabel('Amplitude')\n",
        "axes[0].set_xlim([0, 16000])\n",
        "\n",
        "# Plot Spectrogram\n",
        "plot_spectrogram(spectrogram.numpy(), axes[1])\n",
        "axes[1].set_title('Spectrogram')\n",
        "axes[1].set_xlabel('Time (samples)')\n",
        "axes[1].set_ylabel('Frequency (bins)')\n",
        "\n",
        "# Mengatur jarak antara subplot\n",
        "plt.subplots_adjust(hspace=0.5)\n",
        "\n",
        "plt.show()\n"
      ]
    },
    {
      "cell_type": "code",
      "execution_count": null,
      "metadata": {
        "id": "-25sbfrR1xGH"
      },
      "outputs": [],
      "source": [
        "# def get_spectrogram_and_label_id(audio, label):\n",
        "#     spectrogram = get_spectrogram(audio)\n",
        "#     label_id = tf.math.argmax(label == commands)\n",
        "#     return spectrogram, label_id\n",
        "\n",
        "def get_spectrogram_and_label_id(audio, label):\n",
        "    spectrogram = get_spectrogram(audio)\n",
        "    label_id = tf.math.argmax(label == commands)\n",
        "    return spectrogram, label_id"
      ]
    },
    {
      "cell_type": "code",
      "execution_count": null,
      "metadata": {
        "id": "8HDjT-yu1xGI"
      },
      "outputs": [],
      "source": [
        "spectrogram_ds = waveform_ds.map(\n",
        "    map_func=get_spectrogram_and_label_id,\n",
        "    num_parallel_calls=AUTOTUNE)"
      ]
    },
    {
      "cell_type": "code",
      "execution_count": null,
      "metadata": {
        "colab": {
          "base_uri": "https://localhost:8080/",
          "height": 853
        },
        "id": "3UTOuOXP1xGI",
        "outputId": "031b310a-1ddd-406c-c4e7-02237068e36f"
      },
      "outputs": [],
      "source": [
        "rows = 3\n",
        "cols = 3\n",
        "n = rows * cols\n",
        "fig, axes = plt.subplots(rows, cols, figsize=(10, 10))\n",
        "\n",
        "for i, (spectrogram, label_id) in enumerate(spectrogram_ds.take(n)):\n",
        "    r = i // cols\n",
        "    c = i % cols\n",
        "    ax = axes[r][c]\n",
        "    plot_spectrogram(spectrogram.numpy(), ax)\n",
        "    ax.set_title(commands[label_id.numpy()])\n",
        "    ax.set_xlabel('Time (frames)')\n",
        "    ax.set_ylabel('Frequency (bins)')\n",
        "\n",
        "# Mengatur jarak antara subplot\n",
        "plt.subplots_adjust(hspace=0.5, wspace=0.5)\n",
        "\n",
        "plt.show()\n"
      ]
    },
    {
      "cell_type": "code",
      "execution_count": null,
      "metadata": {
        "id": "bo4VBiqz1xGI"
      },
      "outputs": [],
      "source": [
        "def preprocess_dataset(files):\n",
        "    files_ds = tf.data.Dataset.from_tensor_slices(files)\n",
        "    output_ds = files_ds.map(\n",
        "        map_func=get_waveform_and_label,\n",
        "        num_parallel_calls=AUTOTUNE)\n",
        "    output_ds = output_ds.map(\n",
        "        map_func=get_spectrogram_and_label_id,\n",
        "        num_parallel_calls=AUTOTUNE)\n",
        "    return output_ds"
      ]
    },
    {
      "cell_type": "code",
      "execution_count": null,
      "metadata": {
        "id": "2dgrxD141xGI"
      },
      "outputs": [],
      "source": [
        "train_ds = spectrogram_ds\n",
        "val_ds = preprocess_dataset(val_files)\n",
        "test_ds = preprocess_dataset(test_files)"
      ]
    },
    {
      "cell_type": "code",
      "execution_count": null,
      "metadata": {
        "id": "7KRYYe7z1xGI"
      },
      "outputs": [],
      "source": [
        "batch_size = 64\n",
        "train_ds = train_ds.batch(batch_size)\n",
        "val_ds = val_ds.batch(batch_size)"
      ]
    },
    {
      "cell_type": "code",
      "execution_count": null,
      "metadata": {
        "id": "aKrFENi81xGI"
      },
      "outputs": [],
      "source": [
        "train_ds = train_ds.cache().prefetch(AUTOTUNE)\n",
        "val_ds = val_ds.cache().prefetch(AUTOTUNE)"
      ]
    },
    {
      "cell_type": "code",
      "execution_count": null,
      "metadata": {},
      "outputs": [],
      "source": [
        "for spectrogram, _ in spectrogram_ds.take(1):\n",
        "    input_shape = spectrogram.shape\n",
        "print('Input shape: ', input_shape)\n",
        "num_labels = len(commands)"
      ]
    },
    {
      "cell_type": "code",
      "execution_count": null,
      "metadata": {
        "colab": {
          "base_uri": "https://localhost:8080/"
        },
        "id": "p70JhSHM1xGI",
        "outputId": "098eaa37-e2cd-4233-f0fb-34b02a0f8854"
      },
      "outputs": [],
      "source": [
        "norm_layer = layers.Normalization()\n",
        "norm_layer.adapt(data=spectrogram_ds.map(map_func=lambda spec, label: spec))\n",
        "\n",
        "model = models.Sequential([\n",
        "    layers.Input(shape=input_shape),\n",
        "    layers.Resizing(32,32),\n",
        "    norm_layer,\n",
        "    layers.Conv2D(32, 3, activation='relu'),\n",
        "    layers.Conv2D(64, 3, activation='relu'),\n",
        "    layers.MaxPooling2D(),\n",
        "    layers.Dropout(0.25),\n",
        "    layers.Flatten(),\n",
        "    layers.Dense(128, activation='relu'),\n",
        "    layers.Dropout(0.5),\n",
        "    layers.Dense(num_labels),\n",
        "\n",
        "])\n",
        "\n",
        "model.summary()"
      ]
    },
    {
      "cell_type": "code",
      "execution_count": null,
      "metadata": {
        "id": "PhsUQWBu1xGJ"
      },
      "outputs": [],
      "source": [
        "model.compile(\n",
        "    optimizer=tf.keras.optimizers.Adam(),\n",
        "    loss=tf.keras.losses.SparseCategoricalCrossentropy(from_logits=True, \n",
        "                                                    reduction=tf.keras.losses.Reduction.NONE),\n",
        "    metrics=['accuracy']\n",
        ")"
      ]
    },
    {
      "cell_type": "code",
      "execution_count": null,
      "metadata": {
        "colab": {
          "base_uri": "https://localhost:8080/"
        },
        "id": "zTgEQoyV1xGJ",
        "outputId": "9434079a-5007-4632-d521-d10d1eef3c7c"
      },
      "outputs": [],
      "source": [
        "EPOCHS = 10\n",
        "history = model.fit(\n",
        "    train_ds,\n",
        "    validation_data=val_ds,\n",
        "    epochs=EPOCHS,\n",
        "    # callbacks=tf.keras.callbacks.EarlyStopping(verbose=1, patience=2),\n",
        ")"
      ]
    },
    {
      "cell_type": "code",
      "execution_count": null,
      "metadata": {
        "colab": {
          "base_uri": "https://localhost:8080/",
          "height": 430
        },
        "id": "kAmnprkX1xGJ",
        "outputId": "783a7173-ab95-44e7-b0bb-97b6cdd80be7"
      },
      "outputs": [],
      "source": [
        "acc = history.history['accuracy']\n",
        "val_acc = history.history['val_accuracy']\n",
        "\n",
        "loss = history.history['loss']\n",
        "val_loss = history.history['val_loss']\n",
        "\n",
        "plt.figure(figsize=(15, 6))\n",
        "plt.subplot(1, 2, 1)\n",
        "plt.plot(acc, label='Training Accuracy')\n",
        "plt.plot(val_acc, label='Validation Accuracy')\n",
        "plt.legend(loc='lower right')\n",
        "plt.title('Training and Validation Accuracy')\n",
        "plt.xlabel('Epochs')\n",
        "plt.ylabel('Accuracy')\n",
        "\n",
        "plt.subplot(1, 2, 2)\n",
        "plt.plot(loss, label='Training Loss')\n",
        "plt.plot(val_loss, label='Validation Loss')\n",
        "plt.legend(loc='upper right')\n",
        "plt.title('Training and Validation Loss')\n",
        "plt.xlabel('Epochs')\n",
        "plt.ylabel('Loss')\n",
        "plt.show()"
      ]
    },
    {
      "cell_type": "code",
      "execution_count": null,
      "metadata": {
        "id": "XZw_z6Id1xGJ"
      },
      "outputs": [],
      "source": [
        "test_audio = []\n",
        "test_labels = []\n",
        "\n",
        "for audio, label in test_ds:\n",
        "    test_audio.append(audio.numpy())\n",
        "    test_labels.append(label.numpy())\n",
        "\n",
        "test_audio = np.array(test_audio)\n",
        "test_labels = np.array(test_labels)"
      ]
    },
    {
      "cell_type": "code",
      "execution_count": null,
      "metadata": {
        "colab": {
          "base_uri": "https://localhost:8080/"
        },
        "id": "bcQv1AoW1xGK",
        "outputId": "ceff110e-ac52-48a1-e8c2-68b25f1942dd"
      },
      "outputs": [],
      "source": [
        "y_pred = np.argmax(model.predict(test_audio), axis=1)\n",
        "y_true = test_labels\n",
        "\n",
        "test_acc = sum(y_pred == y_true) / len(y_true)\n",
        "print(f'Test set accuracy: {test_acc:.0%}')"
      ]
    },
    {
      "cell_type": "code",
      "execution_count": null,
      "metadata": {
        "colab": {
          "base_uri": "https://localhost:8080/"
        },
        "id": "USDZNT0X1xGK",
        "outputId": "3ac48bdb-3239-4488-d362-d47d3f494ec5"
      },
      "outputs": [],
      "source": [
        "from sklearn.metrics import classification_report\n",
        "\n",
        "print(classification_report(y_true, y_pred))"
      ]
    },
    {
      "cell_type": "code",
      "execution_count": null,
      "metadata": {
        "colab": {
          "base_uri": "https://localhost:8080/",
          "height": 696
        },
        "id": "i187-tQu1xGK",
        "outputId": "877223ec-0c7e-4eba-d68b-5f5fba44caff"
      },
      "outputs": [],
      "source": [
        "confusion_mtx = tf.math.confusion_matrix(y_true, y_pred)\n",
        "plt.figure(figsize=(10, 8))\n",
        "sns.heatmap(confusion_mtx,\n",
        "            xticklabels=commands,\n",
        "            yticklabels=commands,\n",
        "            annot=True, fmt='g')\n",
        "plt.xlabel('Prediction')\n",
        "plt.ylabel('Label')\n",
        "plt.show()"
      ]
    },
    {
      "cell_type": "code",
      "execution_count": null,
      "metadata": {},
      "outputs": [],
      "source": [
        "model.save('../perintah_suara.h5')"
      ]
    },
    {
      "cell_type": "code",
      "execution_count": null,
      "metadata": {},
      "outputs": [],
      "source": []
    }
  ],
  "metadata": {
    "accelerator": "GPU",
    "colab": {
      "gpuType": "T4",
      "provenance": []
    },
    "kernelspec": {
      "display_name": "Python 3",
      "name": "python3"
    },
    "language_info": {
      "codemirror_mode": {
        "name": "ipython",
        "version": 3
      },
      "file_extension": ".py",
      "mimetype": "text/x-python",
      "name": "python",
      "nbconvert_exporter": "python",
      "pygments_lexer": "ipython3",
      "version": "3.10.14"
    }
  },
  "nbformat": 4,
  "nbformat_minor": 0
}
